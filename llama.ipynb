{
  "nbformat": 4,
  "nbformat_minor": 0,
  "metadata": {
    "colab": {
      "provenance": []
    },
    "kernelspec": {
      "name": "python3",
      "display_name": "Python 3"
    },
    "language_info": {
      "name": "python"
    }
  },
  "cells": [
    {
      "cell_type": "code",
      "execution_count": null,
      "metadata": {
        "id": "H-o9OxaOg0aX"
      },
      "outputs": [],
      "source": [
        "import torch\n",
        "from langchain import HuggingFacePipeline\n",
        "from langchain import PromptTemplate, LLMChain\n",
        "from transformers import AutoModelForCausalLM, AutoTokenizer, pipeline"
      ]
    },
    {
      "cell_type": "code",
      "source": [
        "import torch\n",
        "from peft import AutoPeftModelForCausalLM\n",
        "from transformers import AutoTokenizer, AutoModel\n",
        "import torch.nn.functional as F\n",
        "from langchain.prompts import PromptTemplate"
      ],
      "metadata": {
        "id": "5s7X__EpmbpJ"
      },
      "execution_count": null,
      "outputs": []
    },
    {
      "cell_type": "code",
      "source": [
        "remote_disk_path = '/home/kikarpenko_1/data'"
      ],
      "metadata": {
        "id": "Mmd81h5T6g-2"
      },
      "execution_count": null,
      "outputs": []
    },
    {
      "cell_type": "code",
      "source": [
        "# Загрузка модели\n",
        "model = AutoModelForCausalLM.from_pretrained(remote_disk_path)\n",
        "\n",
        "# Загрузка токенизатора\n",
        "tokenizer = AutoTokenizer.from_pretrained(remote_disk_path)"
      ],
      "metadata": {
        "id": "V65gx9127wBj"
      },
      "execution_count": null,
      "outputs": []
    },
    {
      "cell_type": "code",
      "source": [
        "def get_embedding(sentence, tokenizer, model):\n",
        "    # Tokenize sentences\n",
        "    inputs = tokenizer.encode_plus(sentence, return_tensors=\"pt\", padding=True, truncation=True)\n",
        "\n",
        "    # Compute token embeddings\n",
        "    with torch.no_grad():\n",
        "        outputs = model(**inputs)\n",
        "\n",
        "    # Extract hidden states from model output\n",
        "    hidden_states = outputs.hidden_states\n",
        "\n",
        "    if hidden_states is not None and len(hidden_states) > 0:\n",
        "        # Take the last layer hidden state\n",
        "        last_hidden_state = hidden_states[-1]\n",
        "\n",
        "        # Mean Pooling - Take attention mask into account for correct averaging\n",
        "        attention_mask = inputs[\"attention_mask\"]\n",
        "        input_mask_expanded = attention_mask.unsqueeze(-1).expand(last_hidden_state.size()).float()\n",
        "        sum_embeddings = torch.sum(last_hidden_state * input_mask_expanded, 1)\n",
        "        sum_mask = torch.clamp(input_mask_expanded.sum(1), min=1e-9)\n",
        "        sentence_embeddings = sum_embeddings / sum_mask\n",
        "\n",
        "        # Normalize embeddings\n",
        "        sentence_embeddings = F.normalize(sentence_embeddings, p=2, dim=1)\n",
        "\n",
        "        return sentence_embeddings\n",
        "    else:\n",
        "        raise ValueError(\"No hidden states found in model output.\")\n"
      ],
      "metadata": {
        "id": "EMhPTLBjnTcT"
      },
      "execution_count": 1,
      "outputs": []
    },
    {
      "cell_type": "code",
      "source": [
        "my_info_prompt = (\"<s>system \\nТы — Сайга, русскоязычный автоматический ассистент. Ты разговариваешь с людьми и помогаешь им.</s> \\n<s>user \\nТекст: {prompt} \\nВопрос: {question}</s> \\n<s>bot \\nВот ответ на ваш вопрос длиной не более 50 слов:\")"
      ],
      "metadata": {
        "id": "agXpfn8FnWet"
      },
      "execution_count": null,
      "outputs": []
    },
    {
      "cell_type": "code",
      "source": [
        "def get_answer(info_prompt, question, prompt):\n",
        "\n",
        "    prompt = info_prompt.format(question=question, prompt=prompt)\n",
        "    inputs = tokenizer(prompt, return_tensors=\"pt\")\n",
        "    outputs = model.generate(input_ids=inputs[\"input_ids\"],\n",
        "                            top_p=0.5,\n",
        "                            temperature=0.3,\n",
        "                            attention_mask=inputs[\"attention_mask\"],\n",
        "                            max_new_tokens=100,\n",
        "                            pad_token_id=tokenizer.eos_token_id,\n",
        "                            do_sample=True)\n",
        "\n",
        "    output = tokenizer.decode(outputs[0], skip_special_tokens=True)\n",
        "\n",
        "    parsed_answer = output.split(\"Вот ответ на ваш вопрос длиной не более 50 слов:\")[1].strip()\n",
        "\n",
        "    if \"bot:\" in parsed_answer:\n",
        "        parsed_answer = parsed_answer.split(\"bot:\")[0].strip()\n",
        "\n",
        "    # parsed_answer = output.split(\"bot:\")[1].strip()\n",
        "    return parsed_answer"
      ],
      "metadata": {
        "id": "R1F0QjDDneDG"
      },
      "execution_count": 1,
      "outputs": []
    },
    {
      "cell_type": "code",
      "source": [
        "questions_hse = [\n",
        "    \"Какие факультеты и программы предлагает НИУ ВШЭ?\",\n",
        "    \"Каковы требования для поступления в НИУ ВШЭ?\",\n",
        "    \"Какие документы необходимо подать для поступления в НИУ ВШЭ?\",\n",
        "    \"Есть ли вступительные экзамены или тесты для поступления в НИУ ВШЭ, и как к ним подготовиться?\",\n",
        "    \"Какова стоимость обучения на различных программах в НИУ ВШЭ?\",\n",
        "    \"Предоставляются ли стипендии или гранты для студентов НИУ ВШЭ?\",\n",
        "    \"Какие карьерные возможности открываются для выпускников НИУ ВШЭ?\",\n",
        "    \"Есть ли у НИУ ВШЭ международные программы обмена студентами?\",\n",
        "    \"Какие возможности для стажировок и практики доступны студентам НИУ ВШЭ?\",\n",
        "    \"Какова средняя группа студентов на лекциях и семинарах в НИУ ВШЭ?\",\n",
        "    \"Есть ли общежития для иногородних студентов в НИУ ВШЭ?\",\n",
        "    \"Как организована внеучебная деятельность и студенческая жизнь в НИУ ВШЭ?\",\n",
        "    \"Есть ли в НИУ ВШЭ спортивные секции и клубы по интересам?\",\n",
        "    \"Какие возможности для научной работы и исследований предоставляются студентам НИУ ВШЭ?\",\n",
        "    \"Какова процедура подачи заявки для иностранных студентов в НИУ ВШЭ?\",\n",
        "    \"Какой уровень владения языком требуется для поступления в НИУ ВШЭ?\",\n",
        "    \"Какие услуги предоставляет НИУ ВШЭ для поддержки студентов (например, психологическая помощь, карьерные консультации)?\",\n",
        "    \"Каковы сроки подачи документов и зачисления в НИУ ВШЭ?\",\n",
        "    \"Есть ли у НИУ ВШЭ партнерские отношения с крупными компаниями или предприятиями?\",\n",
        "    \"Какова процедура апелляции в случае несогласия с результатами вступительных экзаменов в НИУ ВШЭ?\"\n",
        "]"
      ],
      "metadata": {
        "id": "_ofUn_-6nwkW"
      },
      "execution_count": 2,
      "outputs": []
    },
    {
      "cell_type": "code",
      "source": [
        "def get_cos_sim(question):\n",
        "    cos_sim = F.cosine_similarity(emb_database, emb, dim=1, eps=1e-8)\n",
        "    return cos_sim"
      ],
      "metadata": {
        "id": "blKJcvNrnh33"
      },
      "execution_count": null,
      "outputs": []
    },
    {
      "cell_type": "code",
      "source": [
        "answers = []\n",
        "emb_database = torch.empty((0, 384), dtype=torch.float32)"
      ],
      "metadata": {
        "id": "Kq2BWbC-nicf"
      },
      "execution_count": null,
      "outputs": []
    },
    {
      "cell_type": "code",
      "source": [
        "import pandas as pd\n",
        "csv_file_path = 'context_data.csv'\n",
        "\n",
        "# Чтение данных из CSV файла в DataFrame\n",
        "data = pd.read_csv(csv_file_path)\n",
        "\n",
        "# Вывод первых нескольких строк DataFrame\n",
        "print(data)"
      ],
      "metadata": {
        "colab": {
          "base_uri": "https://localhost:8080/"
        },
        "id": "hqn5mttEnlIK",
        "outputId": "3e1ed965-8846-48b9-eb75-e83a9bbaaf26"
      },
      "execution_count": 4,
      "outputs": [
        {
          "output_type": "stream",
          "name": "stdout",
          "text": [
            "                                  Processed_Sentences\n",
            "0   {'title': 'Абитуриентам бакалавриата НИУ ВШЭ—П...\n",
            "1   ', 'Образование', 'Стажер посещает занятия на\\...\n",
            "2   ', 'Эксперты НИУ ВШЭ – Пермь приняли участие в...\n",
            "3   ', 'Подать заявку\\xa0Задать вопрос\\xa0Записать...\n",
            "4   {'title': 'О Вышке в Нижнем Новгороде – Национ...\n",
            "5   ', 'Требования к кандидатам:', '—\\xa0наличие с...\n",
            "6   {'title': 'Образовательный онлайн-проект «Карь...\n",
            "7   ', 'Задать вопрос о программе Поступить', 'О п...\n",
            "8   ', 'Образование', 'Стажер посещает занятия на\\...\n",
            "9   {'title': 'Аналитический центр – Национальный ...\n",
            "10  {'title': 'Тема «общежития НИУ ВШЭ» – Новости ...\n",
            "11  ', 'Основное образование', 'Бакалавриат', '16'...\n",
            "12  {'title': 'Что в меню и есть ли очереди – Ново...\n",
            "13  {'title': 'Факультет экономических наук – Наци...\n",
            "14  ', 'Особенности организации перевода студентов...\n",
            "15  {'title': 'Вход', 'description': '', 'url': 'h...\n",
            "16  {'title': 'Медицинская и психологическая помощ...\n",
            "17  {'title': 'Учебная лаборатория элементов и уст...\n",
            "18  Совет, в частности, будет отвечать за информац...\n",
            "19  {'title': 'Дополнительные заключения, апелляци...\n"
          ]
        }
      ]
    },
    {
      "cell_type": "code",
      "source": [
        "#генерация ответа до 50 токенов\n",
        "for i in range(len(questions_hse)):\n",
        "  context = data[i]\n",
        "  emb = get_embedding(questions_hse[i])\n",
        "\n",
        "  cos_sim = get_cos_sim(questions_hse[i])\n",
        "  answer = get_answer(my_info_prompt, questions_hse[i], context)\n",
        "  emb_database = torch.cat((emb_database, emb), 0)\n",
        "  answers.append(answer)\n",
        "  get_cos_sim(questions_hse[i])\n",
        "  print(questions_hse[i])\n",
        "  print(f'Answer from model: {answer} \\n')"
      ],
      "metadata": {
        "colab": {
          "base_uri": "https://localhost:8080/",
          "height": 477
        },
        "id": "DmRiK_U1n0fB",
        "outputId": "b07d1fd1-88ad-4abc-9e2b-a1cccca26eec"
      },
      "execution_count": 5,
      "outputs": [
        {
          "output_type": "error",
          "ename": "KeyError",
          "evalue": "0",
          "traceback": [
            "\u001b[0;31m---------------------------------------------------------------------------\u001b[0m",
            "\u001b[0;31mKeyError\u001b[0m                                  Traceback (most recent call last)",
            "\u001b[0;32m/usr/local/lib/python3.10/dist-packages/pandas/core/indexes/base.py\u001b[0m in \u001b[0;36mget_loc\u001b[0;34m(self, key)\u001b[0m\n\u001b[1;32m   3652\u001b[0m         \u001b[0;32mtry\u001b[0m\u001b[0;34m:\u001b[0m\u001b[0;34m\u001b[0m\u001b[0;34m\u001b[0m\u001b[0m\n\u001b[0;32m-> 3653\u001b[0;31m             \u001b[0;32mreturn\u001b[0m \u001b[0mself\u001b[0m\u001b[0;34m.\u001b[0m\u001b[0m_engine\u001b[0m\u001b[0;34m.\u001b[0m\u001b[0mget_loc\u001b[0m\u001b[0;34m(\u001b[0m\u001b[0mcasted_key\u001b[0m\u001b[0;34m)\u001b[0m\u001b[0;34m\u001b[0m\u001b[0;34m\u001b[0m\u001b[0m\n\u001b[0m\u001b[1;32m   3654\u001b[0m         \u001b[0;32mexcept\u001b[0m \u001b[0mKeyError\u001b[0m \u001b[0;32mas\u001b[0m \u001b[0merr\u001b[0m\u001b[0;34m:\u001b[0m\u001b[0;34m\u001b[0m\u001b[0;34m\u001b[0m\u001b[0m\n",
            "\u001b[0;32m/usr/local/lib/python3.10/dist-packages/pandas/_libs/index.pyx\u001b[0m in \u001b[0;36mpandas._libs.index.IndexEngine.get_loc\u001b[0;34m()\u001b[0m\n",
            "\u001b[0;32m/usr/local/lib/python3.10/dist-packages/pandas/_libs/index.pyx\u001b[0m in \u001b[0;36mpandas._libs.index.IndexEngine.get_loc\u001b[0;34m()\u001b[0m\n",
            "\u001b[0;32mpandas/_libs/hashtable_class_helper.pxi\u001b[0m in \u001b[0;36mpandas._libs.hashtable.PyObjectHashTable.get_item\u001b[0;34m()\u001b[0m\n",
            "\u001b[0;32mpandas/_libs/hashtable_class_helper.pxi\u001b[0m in \u001b[0;36mpandas._libs.hashtable.PyObjectHashTable.get_item\u001b[0;34m()\u001b[0m\n",
            "\u001b[0;31mKeyError\u001b[0m: 0",
            "\nThe above exception was the direct cause of the following exception:\n",
            "\u001b[0;31mKeyError\u001b[0m                                  Traceback (most recent call last)",
            "\u001b[0;32m<ipython-input-5-7579c8eef9ec>\u001b[0m in \u001b[0;36m<cell line: 2>\u001b[0;34m()\u001b[0m\n\u001b[1;32m      1\u001b[0m \u001b[0;31m#генерация ответа до 50 токенов\u001b[0m\u001b[0;34m\u001b[0m\u001b[0;34m\u001b[0m\u001b[0m\n\u001b[1;32m      2\u001b[0m \u001b[0;32mfor\u001b[0m \u001b[0mi\u001b[0m \u001b[0;32min\u001b[0m \u001b[0mrange\u001b[0m\u001b[0;34m(\u001b[0m\u001b[0mlen\u001b[0m\u001b[0;34m(\u001b[0m\u001b[0mquestions_hse\u001b[0m\u001b[0;34m)\u001b[0m\u001b[0;34m)\u001b[0m\u001b[0;34m:\u001b[0m\u001b[0;34m\u001b[0m\u001b[0;34m\u001b[0m\u001b[0m\n\u001b[0;32m----> 3\u001b[0;31m   \u001b[0mcontext\u001b[0m \u001b[0;34m=\u001b[0m \u001b[0mdata\u001b[0m\u001b[0;34m[\u001b[0m\u001b[0mi\u001b[0m\u001b[0;34m]\u001b[0m\u001b[0;34m\u001b[0m\u001b[0;34m\u001b[0m\u001b[0m\n\u001b[0m\u001b[1;32m      4\u001b[0m   \u001b[0mkey_sentences\u001b[0m \u001b[0;34m=\u001b[0m \u001b[0mextract_key_sentences_tfidf\u001b[0m\u001b[0;34m(\u001b[0m\u001b[0mcontext\u001b[0m\u001b[0;34m)\u001b[0m\u001b[0;34m\u001b[0m\u001b[0;34m\u001b[0m\u001b[0m\n\u001b[1;32m      5\u001b[0m   \u001b[0memb\u001b[0m \u001b[0;34m=\u001b[0m \u001b[0mget_embedding\u001b[0m\u001b[0;34m(\u001b[0m\u001b[0mquestions_hse\u001b[0m\u001b[0;34m[\u001b[0m\u001b[0mi\u001b[0m\u001b[0;34m]\u001b[0m\u001b[0;34m)\u001b[0m\u001b[0;34m\u001b[0m\u001b[0;34m\u001b[0m\u001b[0m\n",
            "\u001b[0;32m/usr/local/lib/python3.10/dist-packages/pandas/core/frame.py\u001b[0m in \u001b[0;36m__getitem__\u001b[0;34m(self, key)\u001b[0m\n\u001b[1;32m   3759\u001b[0m             \u001b[0;32mif\u001b[0m \u001b[0mself\u001b[0m\u001b[0;34m.\u001b[0m\u001b[0mcolumns\u001b[0m\u001b[0;34m.\u001b[0m\u001b[0mnlevels\u001b[0m \u001b[0;34m>\u001b[0m \u001b[0;36m1\u001b[0m\u001b[0;34m:\u001b[0m\u001b[0;34m\u001b[0m\u001b[0;34m\u001b[0m\u001b[0m\n\u001b[1;32m   3760\u001b[0m                 \u001b[0;32mreturn\u001b[0m \u001b[0mself\u001b[0m\u001b[0;34m.\u001b[0m\u001b[0m_getitem_multilevel\u001b[0m\u001b[0;34m(\u001b[0m\u001b[0mkey\u001b[0m\u001b[0;34m)\u001b[0m\u001b[0;34m\u001b[0m\u001b[0;34m\u001b[0m\u001b[0m\n\u001b[0;32m-> 3761\u001b[0;31m             \u001b[0mindexer\u001b[0m \u001b[0;34m=\u001b[0m \u001b[0mself\u001b[0m\u001b[0;34m.\u001b[0m\u001b[0mcolumns\u001b[0m\u001b[0;34m.\u001b[0m\u001b[0mget_loc\u001b[0m\u001b[0;34m(\u001b[0m\u001b[0mkey\u001b[0m\u001b[0;34m)\u001b[0m\u001b[0;34m\u001b[0m\u001b[0;34m\u001b[0m\u001b[0m\n\u001b[0m\u001b[1;32m   3762\u001b[0m             \u001b[0;32mif\u001b[0m \u001b[0mis_integer\u001b[0m\u001b[0;34m(\u001b[0m\u001b[0mindexer\u001b[0m\u001b[0;34m)\u001b[0m\u001b[0;34m:\u001b[0m\u001b[0;34m\u001b[0m\u001b[0;34m\u001b[0m\u001b[0m\n\u001b[1;32m   3763\u001b[0m                 \u001b[0mindexer\u001b[0m \u001b[0;34m=\u001b[0m \u001b[0;34m[\u001b[0m\u001b[0mindexer\u001b[0m\u001b[0;34m]\u001b[0m\u001b[0;34m\u001b[0m\u001b[0;34m\u001b[0m\u001b[0m\n",
            "\u001b[0;32m/usr/local/lib/python3.10/dist-packages/pandas/core/indexes/base.py\u001b[0m in \u001b[0;36mget_loc\u001b[0;34m(self, key)\u001b[0m\n\u001b[1;32m   3653\u001b[0m             \u001b[0;32mreturn\u001b[0m \u001b[0mself\u001b[0m\u001b[0;34m.\u001b[0m\u001b[0m_engine\u001b[0m\u001b[0;34m.\u001b[0m\u001b[0mget_loc\u001b[0m\u001b[0;34m(\u001b[0m\u001b[0mcasted_key\u001b[0m\u001b[0;34m)\u001b[0m\u001b[0;34m\u001b[0m\u001b[0;34m\u001b[0m\u001b[0m\n\u001b[1;32m   3654\u001b[0m         \u001b[0;32mexcept\u001b[0m \u001b[0mKeyError\u001b[0m \u001b[0;32mas\u001b[0m \u001b[0merr\u001b[0m\u001b[0;34m:\u001b[0m\u001b[0;34m\u001b[0m\u001b[0;34m\u001b[0m\u001b[0m\n\u001b[0;32m-> 3655\u001b[0;31m             \u001b[0;32mraise\u001b[0m \u001b[0mKeyError\u001b[0m\u001b[0;34m(\u001b[0m\u001b[0mkey\u001b[0m\u001b[0;34m)\u001b[0m \u001b[0;32mfrom\u001b[0m \u001b[0merr\u001b[0m\u001b[0;34m\u001b[0m\u001b[0;34m\u001b[0m\u001b[0m\n\u001b[0m\u001b[1;32m   3656\u001b[0m         \u001b[0;32mexcept\u001b[0m \u001b[0mTypeError\u001b[0m\u001b[0;34m:\u001b[0m\u001b[0;34m\u001b[0m\u001b[0;34m\u001b[0m\u001b[0m\n\u001b[1;32m   3657\u001b[0m             \u001b[0;31m# If we have a listlike key, _check_indexing_error will raise\u001b[0m\u001b[0;34m\u001b[0m\u001b[0;34m\u001b[0m\u001b[0m\n",
            "\u001b[0;31mKeyError\u001b[0m: 0"
          ]
        }
      ]
    }
  ]
}